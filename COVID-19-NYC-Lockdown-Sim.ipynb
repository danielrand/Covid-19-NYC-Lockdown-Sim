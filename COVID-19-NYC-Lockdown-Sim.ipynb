{
 "cells": [
  {
   "cell_type": "markdown",
   "metadata": {},
   "source": [
    "# Time Is Key: The Effect of Lockdown Measures on Covid-19 Rate of Infection"
   ]
  },
  {
   "cell_type": "code",
   "execution_count": 10,
   "metadata": {},
   "outputs": [
    {
     "name": "stdout",
     "output_type": "stream",
     "text": [
      "Requirement already satisfied: pint in /opt/anaconda3/lib/python3.7/site-packages (0.10.1)\n",
      "Requirement already satisfied: setuptools in /opt/anaconda3/lib/python3.7/site-packages (from pint) (41.4.0)\n",
      "Requirement already satisfied: modsimpy in /opt/anaconda3/lib/python3.7/site-packages (1.1.3)\n"
     ]
    }
   ],
   "source": [
    "!pip install pint\n",
    "!pip install modsimpy\n",
    "# Configure Jupyter so figures appear in the notebook\n",
    "%matplotlib inline\n",
    "\n",
    "# Configure Jupyter to display the assigned value after an assignment\n",
    "%config InteractiveShell.ast_node_interactivity='last_expr_or_assign'\n",
    "\n",
    "\n",
    "# import functions from the modsim.py module\n",
    "from modsim import *"
   ]
  },
  {
   "cell_type": "markdown",
   "metadata": {},
   "source": [
    "# Creating System Object and SIR Model\n",
    "S = Susceptible; I = Infected; R = Recovered <br> Initial values are percentages of the population of the area in question"
   ]
  },
  {
   "cell_type": "code",
   "execution_count": 11,
   "metadata": {},
   "outputs": [],
   "source": [
    "def make_system(beta, gamma, lockdown_time, population, t_end):\n",
    "    \"\"\"Make a system object for the SIR model.\n",
    "    \n",
    "    beta: contact rate in days\n",
    "    gamma: recovery rate in days\n",
    "    lockdown_time: time it took for the city/state to lock down from first case\n",
    "    population: number of people living in the area\n",
    "    t_end: number of days of the outbreak\n",
    "    \n",
    "    returns: System object\n",
    "    \"\"\"\n",
    "    #init = State(S=population-1, I=1, R=0)\n",
    "    #init /= np.sum(init)\n",
    "    \n",
    "    # initialize percentages of Suceptable, Infected and Recovered\n",
    "    init = State(S=.9999, I=.0001, R=0)\n",
    "    \n",
    "    t0 = 0\n",
    "\n",
    "    return System(init=init, t0=t0, t_end=t_end,\n",
    "                  beta=beta, gamma=gamma, new_cases_per_day = TimeSeries(),\n",
    "                  lockdown_time = lockdown_time, population=population, max_new_cases = 0)"
   ]
  },
  {
   "cell_type": "markdown",
   "metadata": {},
   "source": [
    "# Defining the Differential Equations for the Transitions Between S, I, and R Populations\n",
    "new_cases_per_day: Computes new cases from infected percentage <br>\n",
    "max_new_cases: tracks the peak of the outbreak"
   ]
  },
  {
   "cell_type": "code",
   "execution_count": 3,
   "metadata": {},
   "outputs": [],
   "source": [
    "def update_func(state, t, system):\n",
    "    \"\"\"Update the SIR model.\n",
    "    \n",
    "    state: State (s, i, r)\n",
    "    t: time\n",
    "    system: System object\n",
    "    \n",
    "    returns: State (sir)\n",
    "    \"\"\"\n",
    "    s, i, r = state\n",
    "    #print(str(s) + \" \" + str(i) + \" \" + str(r))\n",
    "    \n",
    "    infected = system.beta * i * s\n",
    "    recovered = system.gamma * i\n",
    "    \n",
    "    # Compute new cases as a number by multiplying daily infected percentage by population\n",
    "    new_cases = round(infected*system.population)\n",
    "    system.new_cases_per_day[t] = new_cases\n",
    "    if (new_cases > system.max_new_cases):\n",
    "        system.max_new_cases = new_cases\n",
    "    #print (str(round(infected*population)) + \" new cases\")\n",
    "\n",
    "    s -= infected\n",
    "    i += infected - recovered\n",
    "    r += recovered\n",
    "    \n",
    "    #print (str(s) + \" \" + str(i) + \" \" + str(r))\n",
    "    \n",
    "    return State(S=s, I=i, R=r)"
   ]
  },
  {
   "cell_type": "markdown",
   "metadata": {},
   "source": [
    "# Simulating the outbreak from t0 to t_end\n",
    "Once the lockdown_time is reached we will begin to reduce beta by .004 every day. This value was determined by repeatedly simulating the outbreak and choosing a value that best mirrored how the value changed in NYC."
   ]
  },
  {
   "cell_type": "markdown",
   "metadata": {},
   "source": [
    "# Assumptions:\n",
    "1. Beta, Gamma, and therefore contact rate remain fixed prior to lockdown. However, this does not necessarily reflect the real world since infection rate fluxuates and eventually goes down naturally.\n",
    "2. Beta decreases by a fixed amount every day following the implementation of lockdown measures.\n"
   ]
  },
  {
   "cell_type": "code",
   "execution_count": 4,
   "metadata": {},
   "outputs": [],
   "source": [
    "def run_simulation(system, update_func):\n",
    "    \"\"\"Runs a simulation of the system.\n",
    "        \n",
    "    system: System object\n",
    "    update_func: function that updates state\n",
    "    \n",
    "    returns: TimeFrame\n",
    "    \"\"\"\n",
    "    init, t0, t_end = system.init, system.t0, system.t_end\n",
    "    \n",
    "    frame = TimeFrame(columns=init.index)\n",
    "    frame.row[t0] = init\n",
    "        \n",
    "    for t in linrange(t0, t_end):\n",
    "        frame.row[t+1] = update_func(frame.row[t], t, system)\n",
    "        \n",
    "        # Begin to reduce beta post lockdown\n",
    "        if system.lockdown_time >= 0 and t > system.lockdown_time:\n",
    "            system.beta = system.beta - .004 if system.beta > .004 else 0 \n",
    "    \n",
    "    return frame"
   ]
  },
  {
   "cell_type": "code",
   "execution_count": 5,
   "metadata": {},
   "outputs": [],
   "source": [
    "def calc_total_infected(results):\n",
    "    \"\"\"Fraction of population infected during the simulation.\n",
    "    \n",
    "    results: DataFrame with columns S, I, R\n",
    "    \n",
    "    returns: fraction of population\n",
    "    \"\"\"\n",
    "    # Total infected as a percentage = I + R = 1 - S\n",
    "    return 1 - get_last_value(results.S)\n",
    "    # This line would also work:\n",
    "    #return get_last_value(results.I) + get_last_value(results.R)"
   ]
  },
  {
   "cell_type": "code",
   "execution_count": 6,
   "metadata": {},
   "outputs": [],
   "source": [
    "def sweep_beta(beta_array, gamma, lockdown_time, population, t_end):\n",
    "    \"\"\"Sweep a range of values for beta.\n",
    "    \n",
    "    beta_array: array of beta values\n",
    "    gamma: recovery rate\n",
    "    \n",
    "    returns: SweepSeries that maps from beta to total infected\n",
    "    \"\"\"\n",
    "    sweep = SweepSeries()\n",
    "    for beta in beta_array:\n",
    "        system = make_system(beta, gamma, lockdown_time, population, t_end)\n",
    "        results = run_simulation(system, update_func)\n",
    "        sweep[beta] = round(calc_total_infected(results)*population)\n",
    "    return sweep"
   ]
  },
  {
   "cell_type": "code",
   "execution_count": 7,
   "metadata": {},
   "outputs": [],
   "source": [
    "def sweep_parameters(beta_array, gamma_array,lockdown_time, population, t_end):\n",
    "    \"\"\"Sweep a range of values for beta and gamma.\n",
    "    \n",
    "    beta_array: array of infection rates\n",
    "    gamma_array: array of recovery rates\n",
    "    \n",
    "    returns: SweepFrame with one row for each beta\n",
    "             and one column for each gamma\n",
    "    \"\"\"\n",
    "    print(\"Sweeping through all beta values for every value of gamma.\\nThis may take a minute, please wait...\")\n",
    "\n",
    "    frame = SweepFrame(columns=gamma_array)\n",
    "    for gamma in gamma_array:\n",
    "        frame[gamma] = sweep_beta(beta_array, gamma, lockdown_time, population, t_end)\n",
    "    return frame"
   ]
  },
  {
   "cell_type": "markdown",
   "metadata": {},
   "source": [
    "# Algorithmically determining beta, gamma, and contact number for NYC\n",
    "Methodology: We loop through possible values for beta and gamma and run the model for each combination. This produces a table of simulation results. The columns correspond to different gamma values, the rows correspond to different beta values. The values are the predicted total cases in the city. We can then see which combination of parameters most closely mostches the actual total of NYC, 185,653.\n",
    "# Parameter Initializtion\n",
    "Lockdown time for NYC was 20 Days, we have 65 days of data from March 1st to compare to, and NYC's population is 8,399,000."
   ]
  },
  {
   "cell_type": "code",
   "execution_count": 8,
   "metadata": {},
   "outputs": [
    {
     "data": {
      "text/plain": [
       "65"
      ]
     },
     "execution_count": 8,
     "metadata": {},
     "output_type": "execute_result"
    }
   ],
   "source": [
    "lockdown_time_NYC = 20\n",
    "population_NYC = 8399000 #popultation of NYC\n",
    "outbreak_length_NYC = 65"
   ]
  },
  {
   "cell_type": "code",
   "execution_count": 9,
   "metadata": {},
   "outputs": [
    {
     "name": "stdout",
     "output_type": "stream",
     "text": [
      "Sweeping through all beta values for every value of gamma.\n",
      "This may take a minute, please wait...\n"
     ]
    },
    {
     "data": {
      "text/html": [
       "<div>\n",
       "<style scoped>\n",
       "    .dataframe tbody tr th:only-of-type {\n",
       "        vertical-align: middle;\n",
       "    }\n",
       "\n",
       "    .dataframe tbody tr th {\n",
       "        vertical-align: top;\n",
       "    }\n",
       "\n",
       "    .dataframe thead th {\n",
       "        text-align: right;\n",
       "    }\n",
       "</style>\n",
       "<table border=\"1\" class=\"dataframe\">\n",
       "  <thead>\n",
       "    <tr style=\"text-align: right;\">\n",
       "      <th></th>\n",
       "      <th>0.100000</th>\n",
       "      <th>0.121429</th>\n",
       "      <th>0.142857</th>\n",
       "      <th>0.164286</th>\n",
       "      <th>0.185714</th>\n",
       "      <th>0.207143</th>\n",
       "      <th>0.228571</th>\n",
       "      <th>0.250000</th>\n",
       "      <th>0.271429</th>\n",
       "      <th>0.292857</th>\n",
       "      <th>0.314286</th>\n",
       "      <th>0.335714</th>\n",
       "      <th>0.357143</th>\n",
       "      <th>0.378571</th>\n",
       "      <th>0.400000</th>\n",
       "    </tr>\n",
       "  </thead>\n",
       "  <tbody>\n",
       "    <tr>\n",
       "      <td>0.100000</td>\n",
       "      <td>3530.0</td>\n",
       "      <td>2781.0</td>\n",
       "      <td>2298.0</td>\n",
       "      <td>1976.0</td>\n",
       "      <td>1755.0</td>\n",
       "      <td>1597.0</td>\n",
       "      <td>1482.0</td>\n",
       "      <td>1395.0</td>\n",
       "      <td>1328.0</td>\n",
       "      <td>1274.0</td>\n",
       "      <td>1231.0</td>\n",
       "      <td>1196.0</td>\n",
       "      <td>1166.0</td>\n",
       "      <td>1141.0</td>\n",
       "      <td>1120.0</td>\n",
       "    </tr>\n",
       "    <tr>\n",
       "      <td>0.121429</td>\n",
       "      <td>5875.0</td>\n",
       "      <td>4248.0</td>\n",
       "      <td>3261.0</td>\n",
       "      <td>2640.0</td>\n",
       "      <td>2233.0</td>\n",
       "      <td>1957.0</td>\n",
       "      <td>1762.0</td>\n",
       "      <td>1621.0</td>\n",
       "      <td>1514.0</td>\n",
       "      <td>1432.0</td>\n",
       "      <td>1368.0</td>\n",
       "      <td>1315.0</td>\n",
       "      <td>1272.0</td>\n",
       "      <td>1236.0</td>\n",
       "      <td>1206.0</td>\n",
       "    </tr>\n",
       "    <tr>\n",
       "      <td>0.142857</td>\n",
       "      <td>10748.0</td>\n",
       "      <td>7068.0</td>\n",
       "      <td>4981.0</td>\n",
       "      <td>3746.0</td>\n",
       "      <td>2983.0</td>\n",
       "      <td>2490.0</td>\n",
       "      <td>2159.0</td>\n",
       "      <td>1927.0</td>\n",
       "      <td>1759.0</td>\n",
       "      <td>1634.0</td>\n",
       "      <td>1537.0</td>\n",
       "      <td>1461.0</td>\n",
       "      <td>1399.0</td>\n",
       "      <td>1349.0</td>\n",
       "      <td>1306.0</td>\n",
       "    </tr>\n",
       "    <tr>\n",
       "      <td>0.164286</td>\n",
       "      <td>21716.0</td>\n",
       "      <td>12926.0</td>\n",
       "      <td>8286.0</td>\n",
       "      <td>5721.0</td>\n",
       "      <td>4233.0</td>\n",
       "      <td>3326.0</td>\n",
       "      <td>2748.0</td>\n",
       "      <td>2361.0</td>\n",
       "      <td>2092.0</td>\n",
       "      <td>1898.0</td>\n",
       "      <td>1753.0</td>\n",
       "      <td>1642.0</td>\n",
       "      <td>1554.0</td>\n",
       "      <td>1483.0</td>\n",
       "      <td>1425.0</td>\n",
       "    </tr>\n",
       "    <tr>\n",
       "      <td>0.185714</td>\n",
       "      <td>48379.0</td>\n",
       "      <td>26081.0</td>\n",
       "      <td>15144.0</td>\n",
       "      <td>9515.0</td>\n",
       "      <td>6464.0</td>\n",
       "      <td>4720.0</td>\n",
       "      <td>3670.0</td>\n",
       "      <td>3005.0</td>\n",
       "      <td>2564.0</td>\n",
       "      <td>2258.0</td>\n",
       "      <td>2037.0</td>\n",
       "      <td>1873.0</td>\n",
       "      <td>1747.0</td>\n",
       "      <td>1647.0</td>\n",
       "      <td>1567.0</td>\n",
       "    </tr>\n",
       "    <tr>\n",
       "      <td>0.207143</td>\n",
       "      <td>116737.0</td>\n",
       "      <td>57656.0</td>\n",
       "      <td>30444.0</td>\n",
       "      <td>17360.0</td>\n",
       "      <td>10742.0</td>\n",
       "      <td>7206.0</td>\n",
       "      <td>5207.0</td>\n",
       "      <td>4013.0</td>\n",
       "      <td>3262.0</td>\n",
       "      <td>2766.0</td>\n",
       "      <td>2423.0</td>\n",
       "      <td>2176.0</td>\n",
       "      <td>1992.0</td>\n",
       "      <td>1851.0</td>\n",
       "      <td>1740.0</td>\n",
       "    </tr>\n",
       "    <tr>\n",
       "      <td>0.228571</td>\n",
       "      <td>296555.0</td>\n",
       "      <td>137377.0</td>\n",
       "      <td>66860.0</td>\n",
       "      <td>34790.0</td>\n",
       "      <td>19572.0</td>\n",
       "      <td>11968.0</td>\n",
       "      <td>7947.0</td>\n",
       "      <td>5694.0</td>\n",
       "      <td>4357.0</td>\n",
       "      <td>3519.0</td>\n",
       "      <td>2968.0</td>\n",
       "      <td>2588.0</td>\n",
       "      <td>2315.0</td>\n",
       "      <td>2112.0</td>\n",
       "      <td>1956.0</td>\n",
       "    </tr>\n",
       "    <tr>\n",
       "      <td>0.250000</td>\n",
       "      <td>755680.0</td>\n",
       "      <td>342545.0</td>\n",
       "      <td>157662.0</td>\n",
       "      <td>75983.0</td>\n",
       "      <td>39114.0</td>\n",
       "      <td>21777.0</td>\n",
       "      <td>13192.0</td>\n",
       "      <td>8687.0</td>\n",
       "      <td>6180.0</td>\n",
       "      <td>4700.0</td>\n",
       "      <td>3777.0</td>\n",
       "      <td>3170.0</td>\n",
       "      <td>2753.0</td>\n",
       "      <td>2454.0</td>\n",
       "      <td>2231.0</td>\n",
       "    </tr>\n",
       "    <tr>\n",
       "      <td>0.271429</td>\n",
       "      <td>1776975.0</td>\n",
       "      <td>848401.0</td>\n",
       "      <td>386751.0</td>\n",
       "      <td>177557.0</td>\n",
       "      <td>85016.0</td>\n",
       "      <td>43416.0</td>\n",
       "      <td>23977.0</td>\n",
       "      <td>14413.0</td>\n",
       "      <td>9427.0</td>\n",
       "      <td>6666.0</td>\n",
       "      <td>5043.0</td>\n",
       "      <td>4034.0</td>\n",
       "      <td>3372.0</td>\n",
       "      <td>2918.0</td>\n",
       "      <td>2592.0</td>\n",
       "    </tr>\n",
       "    <tr>\n",
       "      <td>0.292857</td>\n",
       "      <td>3453119.0</td>\n",
       "      <td>1912981.0</td>\n",
       "      <td>933148.0</td>\n",
       "      <td>429065.0</td>\n",
       "      <td>197028.0</td>\n",
       "      <td>93951.0</td>\n",
       "      <td>47693.0</td>\n",
       "      <td>26169.0</td>\n",
       "      <td>15633.0</td>\n",
       "      <td>10166.0</td>\n",
       "      <td>7152.0</td>\n",
       "      <td>5386.0</td>\n",
       "      <td>4291.0</td>\n",
       "      <td>3574.0</td>\n",
       "      <td>3083.0</td>\n",
       "    </tr>\n",
       "    <tr>\n",
       "      <td>0.314286</td>\n",
       "      <td>5233001.0</td>\n",
       "      <td>3541052.0</td>\n",
       "      <td>2024419.0</td>\n",
       "      <td>1009995.0</td>\n",
       "      <td>469407.0</td>\n",
       "      <td>216047.0</td>\n",
       "      <td>102781.0</td>\n",
       "      <td>51943.0</td>\n",
       "      <td>28353.0</td>\n",
       "      <td>16849.0</td>\n",
       "      <td>10904.0</td>\n",
       "      <td>7637.0</td>\n",
       "      <td>5729.0</td>\n",
       "      <td>4547.0</td>\n",
       "      <td>3776.0</td>\n",
       "    </tr>\n",
       "    <tr>\n",
       "      <td>0.335714</td>\n",
       "      <td>6513435.0</td>\n",
       "      <td>5179954.0</td>\n",
       "      <td>3591604.0</td>\n",
       "      <td>2114105.0</td>\n",
       "      <td>1079142.0</td>\n",
       "      <td>507715.0</td>\n",
       "      <td>234587.0</td>\n",
       "      <td>111497.0</td>\n",
       "      <td>56165.0</td>\n",
       "      <td>30529.0</td>\n",
       "      <td>18064.0</td>\n",
       "      <td>11641.0</td>\n",
       "      <td>8122.0</td>\n",
       "      <td>6071.0</td>\n",
       "      <td>4804.0</td>\n",
       "    </tr>\n",
       "    <tr>\n",
       "      <td>0.357143</td>\n",
       "      <td>7267126.0</td>\n",
       "      <td>6354612.0</td>\n",
       "      <td>5103622.0</td>\n",
       "      <td>3613433.0</td>\n",
       "      <td>2184785.0</td>\n",
       "      <td>1140885.0</td>\n",
       "      <td>543953.0</td>\n",
       "      <td>252625.0</td>\n",
       "      <td>120093.0</td>\n",
       "      <td>60355.0</td>\n",
       "      <td>32697.0</td>\n",
       "      <td>19275.0</td>\n",
       "      <td>12377.0</td>\n",
       "      <td>8606.0</td>\n",
       "      <td>6414.0</td>\n",
       "    </tr>\n",
       "    <tr>\n",
       "      <td>0.378571</td>\n",
       "      <td>7693521.0</td>\n",
       "      <td>7075613.0</td>\n",
       "      <td>6189332.0</td>\n",
       "      <td>5012144.0</td>\n",
       "      <td>3613362.0</td>\n",
       "      <td>2239042.0</td>\n",
       "      <td>1195594.0</td>\n",
       "      <td>578106.0</td>\n",
       "      <td>270141.0</td>\n",
       "      <td>128562.0</td>\n",
       "      <td>64513.0</td>\n",
       "      <td>34855.0</td>\n",
       "      <td>20484.0</td>\n",
       "      <td>13112.0</td>\n",
       "      <td>9090.0</td>\n",
       "    </tr>\n",
       "    <tr>\n",
       "      <td>0.400000</td>\n",
       "      <td>7942214.0</td>\n",
       "      <td>7510142.0</td>\n",
       "      <td>6881129.0</td>\n",
       "      <td>6022051.0</td>\n",
       "      <td>4911277.0</td>\n",
       "      <td>3596735.0</td>\n",
       "      <td>2279237.0</td>\n",
       "      <td>1243688.0</td>\n",
       "      <td>610174.0</td>\n",
       "      <td>287118.0</td>\n",
       "      <td>136898.0</td>\n",
       "      <td>68637.0</td>\n",
       "      <td>37003.0</td>\n",
       "      <td>21689.0</td>\n",
       "      <td>13846.0</td>\n",
       "    </tr>\n",
       "  </tbody>\n",
       "</table>\n",
       "</div>"
      ],
      "text/plain": [
       "           0.100000   0.121429   0.142857   0.164286   0.185714   0.207143  \\\n",
       "0.100000     3530.0     2781.0     2298.0     1976.0     1755.0     1597.0   \n",
       "0.121429     5875.0     4248.0     3261.0     2640.0     2233.0     1957.0   \n",
       "0.142857    10748.0     7068.0     4981.0     3746.0     2983.0     2490.0   \n",
       "0.164286    21716.0    12926.0     8286.0     5721.0     4233.0     3326.0   \n",
       "0.185714    48379.0    26081.0    15144.0     9515.0     6464.0     4720.0   \n",
       "0.207143   116737.0    57656.0    30444.0    17360.0    10742.0     7206.0   \n",
       "0.228571   296555.0   137377.0    66860.0    34790.0    19572.0    11968.0   \n",
       "0.250000   755680.0   342545.0   157662.0    75983.0    39114.0    21777.0   \n",
       "0.271429  1776975.0   848401.0   386751.0   177557.0    85016.0    43416.0   \n",
       "0.292857  3453119.0  1912981.0   933148.0   429065.0   197028.0    93951.0   \n",
       "0.314286  5233001.0  3541052.0  2024419.0  1009995.0   469407.0   216047.0   \n",
       "0.335714  6513435.0  5179954.0  3591604.0  2114105.0  1079142.0   507715.0   \n",
       "0.357143  7267126.0  6354612.0  5103622.0  3613433.0  2184785.0  1140885.0   \n",
       "0.378571  7693521.0  7075613.0  6189332.0  5012144.0  3613362.0  2239042.0   \n",
       "0.400000  7942214.0  7510142.0  6881129.0  6022051.0  4911277.0  3596735.0   \n",
       "\n",
       "           0.228571   0.250000  0.271429  0.292857  0.314286  0.335714  \\\n",
       "0.100000     1482.0     1395.0    1328.0    1274.0    1231.0    1196.0   \n",
       "0.121429     1762.0     1621.0    1514.0    1432.0    1368.0    1315.0   \n",
       "0.142857     2159.0     1927.0    1759.0    1634.0    1537.0    1461.0   \n",
       "0.164286     2748.0     2361.0    2092.0    1898.0    1753.0    1642.0   \n",
       "0.185714     3670.0     3005.0    2564.0    2258.0    2037.0    1873.0   \n",
       "0.207143     5207.0     4013.0    3262.0    2766.0    2423.0    2176.0   \n",
       "0.228571     7947.0     5694.0    4357.0    3519.0    2968.0    2588.0   \n",
       "0.250000    13192.0     8687.0    6180.0    4700.0    3777.0    3170.0   \n",
       "0.271429    23977.0    14413.0    9427.0    6666.0    5043.0    4034.0   \n",
       "0.292857    47693.0    26169.0   15633.0   10166.0    7152.0    5386.0   \n",
       "0.314286   102781.0    51943.0   28353.0   16849.0   10904.0    7637.0   \n",
       "0.335714   234587.0   111497.0   56165.0   30529.0   18064.0   11641.0   \n",
       "0.357143   543953.0   252625.0  120093.0   60355.0   32697.0   19275.0   \n",
       "0.378571  1195594.0   578106.0  270141.0  128562.0   64513.0   34855.0   \n",
       "0.400000  2279237.0  1243688.0  610174.0  287118.0  136898.0   68637.0   \n",
       "\n",
       "          0.357143  0.378571  0.400000  \n",
       "0.100000    1166.0    1141.0    1120.0  \n",
       "0.121429    1272.0    1236.0    1206.0  \n",
       "0.142857    1399.0    1349.0    1306.0  \n",
       "0.164286    1554.0    1483.0    1425.0  \n",
       "0.185714    1747.0    1647.0    1567.0  \n",
       "0.207143    1992.0    1851.0    1740.0  \n",
       "0.228571    2315.0    2112.0    1956.0  \n",
       "0.250000    2753.0    2454.0    2231.0  \n",
       "0.271429    3372.0    2918.0    2592.0  \n",
       "0.292857    4291.0    3574.0    3083.0  \n",
       "0.314286    5729.0    4547.0    3776.0  \n",
       "0.335714    8122.0    6071.0    4804.0  \n",
       "0.357143   12377.0    8606.0    6414.0  \n",
       "0.378571   20484.0   13112.0    9090.0  \n",
       "0.400000   37003.0   21689.0   13846.0  "
      ]
     },
     "execution_count": 9,
     "metadata": {},
     "output_type": "execute_result"
    }
   ],
   "source": [
    "beta_array = [i for i in linspace(.1,.4,15)]\n",
    "gamma_array = [i for i in linspace(.1,.4,15)]\n",
    "frame = sweep_parameters(beta_array, gamma_array, lockdown_time_NYC, population_NYC, outbreak_length_NYC)"
   ]
  },
  {
   "cell_type": "markdown",
   "metadata": {},
   "source": [
    "# Our Closest total case count was achieved with beta = 0.271429 an gamma = 0.164286\n",
    "Those parameters gave us a contact rate of 0.271429/0.164286 = 1.652 and total cases = 177557. Now lets sweept through even more beta and gamma values within that range to get even closer to the actual"
   ]
  },
  {
   "cell_type": "code",
   "execution_count": 280,
   "metadata": {},
   "outputs": [
    {
     "name": "stdout",
     "output_type": "stream",
     "text": [
      "Sweeping through all beta values for every value of gamma.\n",
      "This may take a minute, please wait...\n"
     ]
    },
    {
     "data": {
      "text/html": [
       "<div>\n",
       "<style scoped>\n",
       "    .dataframe tbody tr th:only-of-type {\n",
       "        vertical-align: middle;\n",
       "    }\n",
       "\n",
       "    .dataframe tbody tr th {\n",
       "        vertical-align: top;\n",
       "    }\n",
       "\n",
       "    .dataframe thead th {\n",
       "        text-align: right;\n",
       "    }\n",
       "</style>\n",
       "<table border=\"1\" class=\"dataframe\">\n",
       "  <thead>\n",
       "    <tr style=\"text-align: right;\">\n",
       "      <th></th>\n",
       "      <th>0.100000</th>\n",
       "      <th>0.107143</th>\n",
       "      <th>0.114286</th>\n",
       "      <th>0.121429</th>\n",
       "      <th>0.128571</th>\n",
       "      <th>0.135714</th>\n",
       "      <th>0.142857</th>\n",
       "      <th>0.150000</th>\n",
       "      <th>0.157143</th>\n",
       "      <th>0.164286</th>\n",
       "      <th>0.171429</th>\n",
       "      <th>0.178571</th>\n",
       "      <th>0.185714</th>\n",
       "      <th>0.192857</th>\n",
       "      <th>0.200000</th>\n",
       "    </tr>\n",
       "  </thead>\n",
       "  <tbody>\n",
       "    <tr>\n",
       "      <td>0.200000</td>\n",
       "      <td>86393.0</td>\n",
       "      <td>68424.0</td>\n",
       "      <td>54571.0</td>\n",
       "      <td>43847.0</td>\n",
       "      <td>35508.0</td>\n",
       "      <td>28992.0</td>\n",
       "      <td>23874.0</td>\n",
       "      <td>19832.0</td>\n",
       "      <td>16622.0</td>\n",
       "      <td>14058.0</td>\n",
       "      <td>11998.0</td>\n",
       "      <td>10333.0</td>\n",
       "      <td>8979.0</td>\n",
       "      <td>7871.0</td>\n",
       "      <td>6958.0</td>\n",
       "    </tr>\n",
       "    <tr>\n",
       "      <td>0.207143</td>\n",
       "      <td>116737.0</td>\n",
       "      <td>91668.0</td>\n",
       "      <td>72446.0</td>\n",
       "      <td>57656.0</td>\n",
       "      <td>46229.0</td>\n",
       "      <td>37361.0</td>\n",
       "      <td>30444.0</td>\n",
       "      <td>25022.0</td>\n",
       "      <td>20749.0</td>\n",
       "      <td>17360.0</td>\n",
       "      <td>14659.0</td>\n",
       "      <td>12491.0</td>\n",
       "      <td>10742.0</td>\n",
       "      <td>9321.0</td>\n",
       "      <td>8160.0</td>\n",
       "    </tr>\n",
       "    <tr>\n",
       "      <td>0.214286</td>\n",
       "      <td>158668.0</td>\n",
       "      <td>123654.0</td>\n",
       "      <td>96921.0</td>\n",
       "      <td>76455.0</td>\n",
       "      <td>60732.0</td>\n",
       "      <td>48605.0</td>\n",
       "      <td>39210.0</td>\n",
       "      <td>31895.0</td>\n",
       "      <td>26170.0</td>\n",
       "      <td>21664.0</td>\n",
       "      <td>18098.0</td>\n",
       "      <td>15259.0</td>\n",
       "      <td>12984.0</td>\n",
       "      <td>11151.0</td>\n",
       "      <td>9664.0</td>\n",
       "    </tr>\n",
       "    <tr>\n",
       "      <td>0.221429</td>\n",
       "      <td>216623.0</td>\n",
       "      <td>167748.0</td>\n",
       "      <td>130535.0</td>\n",
       "      <td>102153.0</td>\n",
       "      <td>80450.0</td>\n",
       "      <td>63801.0</td>\n",
       "      <td>50977.0</td>\n",
       "      <td>41056.0</td>\n",
       "      <td>33343.0</td>\n",
       "      <td>27316.0</td>\n",
       "      <td>22579.0</td>\n",
       "      <td>18835.0</td>\n",
       "      <td>15858.0</td>\n",
       "      <td>13477.0</td>\n",
       "      <td>11559.0</td>\n",
       "    </tr>\n",
       "    <tr>\n",
       "      <td>0.228571</td>\n",
       "      <td>296555.0</td>\n",
       "      <td>228523.0</td>\n",
       "      <td>176765.0</td>\n",
       "      <td>137377.0</td>\n",
       "      <td>107361.0</td>\n",
       "      <td>84431.0</td>\n",
       "      <td>66860.0</td>\n",
       "      <td>53343.0</td>\n",
       "      <td>42899.0</td>\n",
       "      <td>34790.0</td>\n",
       "      <td>28460.0</td>\n",
       "      <td>23493.0</td>\n",
       "      <td>19572.0</td>\n",
       "      <td>16458.0</td>\n",
       "      <td>13969.0</td>\n",
       "    </tr>\n",
       "    <tr>\n",
       "      <td>0.235714</td>\n",
       "      <td>406241.0</td>\n",
       "      <td>312075.0</td>\n",
       "      <td>240314.0</td>\n",
       "      <td>185716.0</td>\n",
       "      <td>144180.0</td>\n",
       "      <td>112545.0</td>\n",
       "      <td>88398.0</td>\n",
       "      <td>69910.0</td>\n",
       "      <td>55703.0</td>\n",
       "      <td>44738.0</td>\n",
       "      <td>36233.0</td>\n",
       "      <td>29604.0</td>\n",
       "      <td>24406.0</td>\n",
       "      <td>20308.0</td>\n",
       "      <td>17056.0</td>\n",
       "    </tr>\n",
       "    <tr>\n",
       "      <td>0.242857</td>\n",
       "      <td>555443.0</td>\n",
       "      <td>426297.0</td>\n",
       "      <td>327407.0</td>\n",
       "      <td>251992.0</td>\n",
       "      <td>194599.0</td>\n",
       "      <td>150943.0</td>\n",
       "      <td>117705.0</td>\n",
       "      <td>92349.0</td>\n",
       "      <td>72952.0</td>\n",
       "      <td>58058.0</td>\n",
       "      <td>46573.0</td>\n",
       "      <td>37675.0</td>\n",
       "      <td>30745.0</td>\n",
       "      <td>25318.0</td>\n",
       "      <td>21043.0</td>\n",
       "    </tr>\n",
       "    <tr>\n",
       "      <td>0.250000</td>\n",
       "      <td>755680.0</td>\n",
       "      <td>580976.0</td>\n",
       "      <td>446030.0</td>\n",
       "      <td>342545.0</td>\n",
       "      <td>263553.0</td>\n",
       "      <td>203413.0</td>\n",
       "      <td>157662.0</td>\n",
       "      <td>122839.0</td>\n",
       "      <td>96285.0</td>\n",
       "      <td>75983.0</td>\n",
       "      <td>60406.0</td>\n",
       "      <td>48404.0</td>\n",
       "      <td>39114.0</td>\n",
       "      <td>31885.0</td>\n",
       "      <td>26229.0</td>\n",
       "    </tr>\n",
       "    <tr>\n",
       "      <td>0.257143</td>\n",
       "      <td>1019301.0</td>\n",
       "      <td>787472.0</td>\n",
       "      <td>605968.0</td>\n",
       "      <td>465435.0</td>\n",
       "      <td>357484.0</td>\n",
       "      <td>274995.0</td>\n",
       "      <td>212154.0</td>\n",
       "      <td>164339.0</td>\n",
       "      <td>127946.0</td>\n",
       "      <td>100205.0</td>\n",
       "      <td>79005.0</td>\n",
       "      <td>62748.0</td>\n",
       "      <td>50232.0</td>\n",
       "      <td>40551.0</td>\n",
       "      <td>33023.0</td>\n",
       "    </tr>\n",
       "    <tr>\n",
       "      <td>0.264286</td>\n",
       "      <td>1357470.0</td>\n",
       "      <td>1057652.0</td>\n",
       "      <td>818380.0</td>\n",
       "      <td>630413.0</td>\n",
       "      <td>484506.0</td>\n",
       "      <td>372221.0</td>\n",
       "      <td>286315.0</td>\n",
       "      <td>220822.0</td>\n",
       "      <td>170971.0</td>\n",
       "      <td>133027.0</td>\n",
       "      <td>104108.0</td>\n",
       "      <td>82016.0</td>\n",
       "      <td>65084.0</td>\n",
       "      <td>52056.0</td>\n",
       "      <td>41985.0</td>\n",
       "    </tr>\n",
       "    <tr>\n",
       "      <td>0.271429</td>\n",
       "      <td>1776975.0</td>\n",
       "      <td>1401761.0</td>\n",
       "      <td>1094611.0</td>\n",
       "      <td>848401.0</td>\n",
       "      <td>654306.0</td>\n",
       "      <td>503236.0</td>\n",
       "      <td>386751.0</td>\n",
       "      <td>297509.0</td>\n",
       "      <td>229414.0</td>\n",
       "      <td>177557.0</td>\n",
       "      <td>138079.0</td>\n",
       "      <td>107994.0</td>\n",
       "      <td>85016.0</td>\n",
       "      <td>67413.0</td>\n",
       "      <td>53875.0</td>\n",
       "    </tr>\n",
       "    <tr>\n",
       "      <td>0.278571</td>\n",
       "      <td>2276391.0</td>\n",
       "      <td>1825212.0</td>\n",
       "      <td>1443964.0</td>\n",
       "      <td>1130189.0</td>\n",
       "      <td>877535.0</td>\n",
       "      <td>677641.0</td>\n",
       "      <td>521623.0</td>\n",
       "      <td>401070.0</td>\n",
       "      <td>308576.0</td>\n",
       "      <td>237928.0</td>\n",
       "      <td>184096.0</td>\n",
       "      <td>143103.0</td>\n",
       "      <td>111862.0</td>\n",
       "      <td>88006.0</td>\n",
       "      <td>69735.0</td>\n",
       "    </tr>\n",
       "    <tr>\n",
       "      <td>0.285714</td>\n",
       "      <td>2843090.0</td>\n",
       "      <td>2324976.0</td>\n",
       "      <td>1870513.0</td>\n",
       "      <td>1484124.0</td>\n",
       "      <td>1164398.0</td>\n",
       "      <td>905783.0</td>\n",
       "      <td>700416.0</td>\n",
       "      <td>539661.0</td>\n",
       "      <td>415176.0</td>\n",
       "      <td>319512.0</td>\n",
       "      <td>246363.0</td>\n",
       "      <td>190587.0</td>\n",
       "      <td>148097.0</td>\n",
       "      <td>115712.0</td>\n",
       "      <td>90984.0</td>\n",
       "    </tr>\n",
       "    <tr>\n",
       "      <td>0.292857</td>\n",
       "      <td>3453119.0</td>\n",
       "      <td>2887098.0</td>\n",
       "      <td>2369738.0</td>\n",
       "      <td>1912981.0</td>\n",
       "      <td>1522285.0</td>\n",
       "      <td>1197257.0</td>\n",
       "      <td>933148.0</td>\n",
       "      <td>722628.0</td>\n",
       "      <td>557348.0</td>\n",
       "      <td>429065.0</td>\n",
       "      <td>330316.0</td>\n",
       "      <td>254718.0</td>\n",
       "      <td>197028.0</td>\n",
       "      <td>153061.0</td>\n",
       "      <td>119544.0</td>\n",
       "    </tr>\n",
       "    <tr>\n",
       "      <td>0.300000</td>\n",
       "      <td>4075090.0</td>\n",
       "      <td>3487206.0</td>\n",
       "      <td>2926555.0</td>\n",
       "      <td>2410870.0</td>\n",
       "      <td>1952718.0</td>\n",
       "      <td>1558497.0</td>\n",
       "      <td>1228783.0</td>\n",
       "      <td>959634.0</td>\n",
       "      <td>744277.0</td>\n",
       "      <td>574681.0</td>\n",
       "      <td>442735.0</td>\n",
       "      <td>340985.0</td>\n",
       "      <td>262990.0</td>\n",
       "      <td>203419.0</td>\n",
       "      <td>157995.0</td>\n",
       "    </tr>\n",
       "  </tbody>\n",
       "</table>\n",
       "</div>"
      ],
      "text/plain": [
       "           0.100000   0.107143   0.114286   0.121429   0.128571   0.135714  \\\n",
       "0.200000    86393.0    68424.0    54571.0    43847.0    35508.0    28992.0   \n",
       "0.207143   116737.0    91668.0    72446.0    57656.0    46229.0    37361.0   \n",
       "0.214286   158668.0   123654.0    96921.0    76455.0    60732.0    48605.0   \n",
       "0.221429   216623.0   167748.0   130535.0   102153.0    80450.0    63801.0   \n",
       "0.228571   296555.0   228523.0   176765.0   137377.0   107361.0    84431.0   \n",
       "0.235714   406241.0   312075.0   240314.0   185716.0   144180.0   112545.0   \n",
       "0.242857   555443.0   426297.0   327407.0   251992.0   194599.0   150943.0   \n",
       "0.250000   755680.0   580976.0   446030.0   342545.0   263553.0   203413.0   \n",
       "0.257143  1019301.0   787472.0   605968.0   465435.0   357484.0   274995.0   \n",
       "0.264286  1357470.0  1057652.0   818380.0   630413.0   484506.0   372221.0   \n",
       "0.271429  1776975.0  1401761.0  1094611.0   848401.0   654306.0   503236.0   \n",
       "0.278571  2276391.0  1825212.0  1443964.0  1130189.0   877535.0   677641.0   \n",
       "0.285714  2843090.0  2324976.0  1870513.0  1484124.0  1164398.0   905783.0   \n",
       "0.292857  3453119.0  2887098.0  2369738.0  1912981.0  1522285.0  1197257.0   \n",
       "0.300000  4075090.0  3487206.0  2926555.0  2410870.0  1952718.0  1558497.0   \n",
       "\n",
       "           0.142857  0.150000  0.157143  0.164286  0.171429  0.178571  \\\n",
       "0.200000    23874.0   19832.0   16622.0   14058.0   11998.0   10333.0   \n",
       "0.207143    30444.0   25022.0   20749.0   17360.0   14659.0   12491.0   \n",
       "0.214286    39210.0   31895.0   26170.0   21664.0   18098.0   15259.0   \n",
       "0.221429    50977.0   41056.0   33343.0   27316.0   22579.0   18835.0   \n",
       "0.228571    66860.0   53343.0   42899.0   34790.0   28460.0   23493.0   \n",
       "0.235714    88398.0   69910.0   55703.0   44738.0   36233.0   29604.0   \n",
       "0.242857   117705.0   92349.0   72952.0   58058.0   46573.0   37675.0   \n",
       "0.250000   157662.0  122839.0   96285.0   75983.0   60406.0   48404.0   \n",
       "0.257143   212154.0  164339.0  127946.0  100205.0   79005.0   62748.0   \n",
       "0.264286   286315.0  220822.0  170971.0  133027.0  104108.0   82016.0   \n",
       "0.271429   386751.0  297509.0  229414.0  177557.0  138079.0  107994.0   \n",
       "0.278571   521623.0  401070.0  308576.0  237928.0  184096.0  143103.0   \n",
       "0.285714   700416.0  539661.0  415176.0  319512.0  246363.0  190587.0   \n",
       "0.292857   933148.0  722628.0  557348.0  429065.0  330316.0  254718.0   \n",
       "0.300000  1228783.0  959634.0  744277.0  574681.0  442735.0  340985.0   \n",
       "\n",
       "          0.185714  0.192857  0.200000  \n",
       "0.200000    8979.0    7871.0    6958.0  \n",
       "0.207143   10742.0    9321.0    8160.0  \n",
       "0.214286   12984.0   11151.0    9664.0  \n",
       "0.221429   15858.0   13477.0   11559.0  \n",
       "0.228571   19572.0   16458.0   13969.0  \n",
       "0.235714   24406.0   20308.0   17056.0  \n",
       "0.242857   30745.0   25318.0   21043.0  \n",
       "0.250000   39114.0   31885.0   26229.0  \n",
       "0.257143   50232.0   40551.0   33023.0  \n",
       "0.264286   65084.0   52056.0   41985.0  \n",
       "0.271429   85016.0   67413.0   53875.0  \n",
       "0.278571  111862.0   88006.0   69735.0  \n",
       "0.285714  148097.0  115712.0   90984.0  \n",
       "0.292857  197028.0  153061.0  119544.0  \n",
       "0.300000  262990.0  203419.0  157995.0  "
      ]
     },
     "execution_count": 280,
     "metadata": {},
     "output_type": "execute_result"
    }
   ],
   "source": [
    "beta_array = [i for i in linspace(.2,.3,15)]\n",
    "gamma_array = [i for i in linspace(.1,.2,15)]\n",
    "frame = sweep_parameters(beta_array, gamma_array, lockdown_time_NYC, population_NYC, outbreak_length_NYC)"
   ]
  },
  {
   "cell_type": "markdown",
   "metadata": {},
   "source": [
    "# We got it right on the nose! Beta = 0.235714 and gamma = 0.121429.\n",
    "This gives us a contact number of 1.94 and total cases after 65 days = 185,716, compared to actual 185,653."
   ]
  },
  {
   "cell_type": "code",
   "execution_count": 281,
   "metadata": {},
   "outputs": [
    {
     "data": {
      "text/plain": [
       "0.121429"
      ]
     },
     "execution_count": 281,
     "metadata": {},
     "output_type": "execute_result"
    }
   ],
   "source": [
    "\"\"\"\n",
    "Other possible values:\n",
    "\n",
    "#beta = .261\n",
    "#gamma = .15\n",
    "#beta = 0.292857\n",
    "#gamma = 0.185714\n",
    "#beta = 0.271429\n",
    "#gamma = 0.164286\n",
    "#beta = 0.228571\n",
    "#gamma = 0.114286\n",
    "\"\"\"\n",
    "\n",
    "beta = 0.235714\n",
    "gamma = 0.121429\n"
   ]
  },
  {
   "cell_type": "code",
   "execution_count": 282,
   "metadata": {},
   "outputs": [],
   "source": [
    "def plot_new_cases (beta,gamma,system, name):\n",
    "    plot(system.new_cases_per_day, label=name)\n",
    "    decorate(xlabel='Time (Days)', ylabel='New Cases (Per Day)')"
   ]
  },
  {
   "cell_type": "code",
   "execution_count": 283,
   "metadata": {},
   "outputs": [],
   "source": [
    "def generate_curve (beta, gamma, lockdown_time, population, name, t_end):\n",
    "    system = make_system(beta, gamma, lockdown_time, population, t_end)\n",
    "    results = run_simulation(system, update_func)\n",
    "    total_infected = round(calc_total_infected(results)*population)\n",
    "    plot_new_cases(beta,gamma,system, name)\n",
    "    print(\"Locked Down After\", system.lockdown_time, \"days\")\n",
    "    print(\"Max New Cases\", system.max_new_cases, \"days\")\n",
    "    print(\"Contact Number After\", t_end, \"Days:\", system.beta/system.gamma)\n",
    "    print(\"Total cases\", total_infected)\n",
    "    return results"
   ]
  },
  {
   "cell_type": "markdown",
   "metadata": {},
   "source": [
    "# Project NYC Curve and Compare to Actual"
   ]
  },
  {
   "cell_type": "code",
   "execution_count": 284,
   "metadata": {},
   "outputs": [
    {
     "name": "stdout",
     "output_type": "stream",
     "text": [
      "Locked Down After 20 days\n",
      "Max New Cases 5352.0 days\n",
      "Contact Number After 65 Days: 0.4917606173154671\n",
      "Total cases 185711.0\n",
      "Saving figure to file nyc20.pdf\n"
     ]
    },
    {
     "data": {
      "image/png": "[encoded data removed]",
      "text/plain": [
       "<Figure size 432x288 with 1 Axes>"
      ]
     },
     "metadata": {
      "needs_background": "light"
     },
     "output_type": "display_data"
    }
   ],
   "source": [
    "results = generate_curve(beta, gamma, lockdown_time_NYC, population_NYC, str(lockdown_time_NYC) + \" Day RT\", outbreak_length_NYC)\n",
    "decorate(title=\"NYC Daily Case Projection\")\n",
    "savefig('nyc20.pdf')"
   ]
  },
  {
   "cell_type": "markdown",
   "metadata": {},
   "source": [
    "# Not Bad! \n",
    "Here is the NYC department of health's data for reference:\n",
    "https://www1.nyc.gov/site/doh/covid/covid-19-data.page\n",
    "# Now let's plot S, I, and R to show how the populations change over time"
   ]
  },
  {
   "cell_type": "code",
   "execution_count": 285,
   "metadata": {},
   "outputs": [],
   "source": [
    "def plotSIR (results, title):\n",
    "    plot(results.S, label = \"S\")\n",
    "    plot(results.I, label = \"I\")\n",
    "    plot(results.R, label = \"R\")\n",
    "    decorate(title=title,xlabel='Time (Days)', ylabel='Percentage of Population')\n",
    "    percent_infected = calc_total_infected(results)*100\n",
    "    print(str(round(percent_infected,2)) + \"% of the population was infected\")\n",
    " \n"
   ]
  },
  {
   "cell_type": "code",
   "execution_count": 286,
   "metadata": {},
   "outputs": [
    {
     "name": "stdout",
     "output_type": "stream",
     "text": [
      "2.21% of the population was infected\n",
      "Saving figure to file SIR_NYC_20.pdf\n"
     ]
    },
    {
     "data": {
      "image/png": "[encoded data removed]",
      "text/plain": [
       "<Figure size 432x288 with 1 Axes>"
      ]
     },
     "metadata": {
      "needs_background": "light"
     },
     "output_type": "display_data"
    }
   ],
   "source": [
    "plotSIR(results,\"Susceptible, Infected, and Recovered for NYC\")\n",
    "savefig('SIR_NYC_20.pdf')"
   ]
  },
  {
   "cell_type": "markdown",
   "metadata": {},
   "source": [
    "# As you can see the lockdown was effective in \"flattening the curve\" and reducing the percentage of the population to become infected\n",
    "Only 2.21 percent of the population became infected with a 20 day lockdown response time, however that translates into nearly 200,000 people. An earlier lockdown would reduce that percentage significantly."
   ]
  },
  {
   "cell_type": "markdown",
   "metadata": {},
   "source": [
    "# Now we will model NYC under various alternative response times for comparison"
   ]
  },
  {
   "cell_type": "code",
   "execution_count": 287,
   "metadata": {
    "scrolled": false
   },
   "outputs": [
    {
     "name": "stdout",
     "output_type": "stream",
     "text": [
      "Locked Down After 0 days\n",
      "Max New Cases 636.0 days\n",
      "Contact Number After 160 Days: 0.0\n",
      "Total cases 22274.0\n",
      "Locked Down After 5 days\n",
      "Max New Cases 1089.0 days\n",
      "Contact Number After 160 Days: 0.0\n",
      "Total cases 38777.0\n",
      "Locked Down After 10 days\n",
      "Max New Cases 1860.0 days\n",
      "Contact Number After 160 Days: 0.0\n",
      "Total cases 66878.0\n",
      "Locked Down After 15 days\n",
      "Max New Cases 3166.0 days\n",
      "Contact Number After 160 Days: 0.0\n",
      "Total cases 114428.0\n",
      "Locked Down After 20 days\n",
      "Max New Cases 5352.0 days\n",
      "Contact Number After 160 Days: 0.0\n",
      "Total cases 194042.0\n",
      "Locked Down After 25 days\n",
      "Max New Cases 8956.0 days\n",
      "Contact Number After 160 Days: 0.0\n",
      "Total cases 325025.0\n",
      "Locked Down After 30 days\n",
      "Max New Cases 14734.0 days\n",
      "Contact Number After 160 Days: 0.0\n",
      "Total cases 534495.0\n",
      "Locked Down After 35 days\n",
      "Max New Cases 23620.0 days\n",
      "Contact Number After 160 Days: 0.0\n",
      "Total cases 855001.0\n",
      "Locked Down After 40 days\n",
      "Max New Cases 36469.0 days\n",
      "Contact Number After 160 Days: 0.0\n",
      "Total cases 1314538.0\n",
      "Locked Down After 45 days\n",
      "Max New Cases 53688.0 days\n",
      "Contact Number After 160 Days: 0.0\n",
      "Total cases 1917930.0\n",
      "Saving figure to file alternate_scenarios_nyc.pdf\n"
     ]
    },
    {
     "data": {
      "image/png": "[encoded data removed]",
      "text/plain": [
       "<Figure size 432x288 with 1 Axes>"
      ]
     },
     "metadata": {
      "needs_background": "light"
     },
     "output_type": "display_data"
    }
   ],
   "source": [
    "lockdown_array = [0, 5, 10, 15, 20, 25, 30, 35, 40, 45]\n",
    "results_array = []\n",
    "t_end = 160\n",
    "for lockdown in lockdown_array:\n",
    "    label = str(lockdown) + \" Day RT\"\n",
    "    if lockdown == 20:\n",
    "        label += \" (Actual)\"\n",
    "    results = generate_curve(beta, gamma, lockdown, population_NYC, label, t_end)\n",
    "    results_array.append(results)\n",
    "decorate(title = \"Alternate Reponse Time (RT) Scenarios for NYC\",xlabel='Time (Days)', ylabel='New Cases (Per Day)')\n",
    "savefig('alternate_scenarios_nyc.pdf')"
   ]
  },
  {
   "cell_type": "markdown",
   "metadata": {},
   "source": [
    "# In order to demonstrate how drastically response time affects infection rate let's plot S, I, and R for RT = 0 and RT = 45"
   ]
  },
  {
   "cell_type": "code",
   "execution_count": 288,
   "metadata": {},
   "outputs": [
    {
     "name": "stdout",
     "output_type": "stream",
     "text": [
      "0.27% of the population was infected\n",
      "Saving figure to file SIR_RT_0.pdf\n"
     ]
    },
    {
     "data": {
      "image/png": "[encoded data removed]",
      "text/plain": [
       "<Figure size 432x288 with 1 Axes>"
      ]
     },
     "metadata": {
      "needs_background": "light"
     },
     "output_type": "display_data"
    }
   ],
   "source": [
    "plotSIR(results_array[0],\"Susceptible, Infected, and Recovered Over Time With RT of 0\")\n",
    "savefig(\"SIR_RT_0.pdf\")"
   ]
  },
  {
   "cell_type": "code",
   "execution_count": 289,
   "metadata": {},
   "outputs": [
    {
     "name": "stdout",
     "output_type": "stream",
     "text": [
      "22.84% of the population was infected\n",
      "Saving figure to file SIR_RT_45.pdf\n"
     ]
    },
    {
     "data": {
      "image/png": "[encoded data removed]",
      "text/plain": [
       "<Figure size 432x288 with 1 Axes>"
      ]
     },
     "metadata": {
      "needs_background": "light"
     },
     "output_type": "display_data"
    }
   ],
   "source": [
    "plotSIR(results_array[len(lockdown_array)-1],\"Susceptible, Infected, and Recovered Over Time With RT of \" + str(lockdown_array[len(lockdown_array)-1]))\n",
    "savefig(\"SIR_RT_45.pdf\")"
   ]
  },
  {
   "cell_type": "markdown",
   "metadata": {},
   "source": [
    "# As you can see there is a huge difference\n",
    "### RT = 0 --> .27% of the population being infected = 22,274 cases\n",
    "### RT = 45 --> 22.84% of the population being infected = 1,917,930 cases\n",
    "# Worst Case Scenario: No Lockdown\n",
    "Let's see what happens if NYC were to stay open and allow the virus to run wild. Note, this is assuming contact rate stays constant, but in reality it would likely change naturally due to people's behavior changing."
   ]
  },
  {
   "cell_type": "code",
   "execution_count": 290,
   "metadata": {},
   "outputs": [
    {
     "name": "stdout",
     "output_type": "stream",
     "text": [
      "Locked Down After -1 days\n",
      "Max New Cases 167535.0 days\n",
      "Contact Number After 175 Days: 1.9411672664684714\n",
      "Total cases 6604914.0\n",
      "Saving figure to file NYC_no_lockdown.pdf\n"
     ]
    },
    {
     "data": {
      "image/png": "[encoded data removed]",
      "text/plain": [
       "<Figure size 432x288 with 1 Axes>"
      ]
     },
     "metadata": {
      "needs_background": "light"
     },
     "output_type": "display_data"
    }
   ],
   "source": [
    "results = generate_curve(beta, gamma, -1, population_NYC, \"No lockdown\", 175)\n",
    "decorate(title=\"NYC Daily Case Projection Without Lockdown\")\n",
    "savefig('NYC_no_lockdown.pdf')"
   ]
  },
  {
   "cell_type": "code",
   "execution_count": 291,
   "metadata": {},
   "outputs": [
    {
     "name": "stdout",
     "output_type": "stream",
     "text": [
      "78.64% of the population was infected\n",
      "Saving figure to file NYC_no_lockdown_SIR.pdf\n"
     ]
    },
    {
     "data": {
      "image/png": "[encoded data removed]",
      "text/plain": [
       "<Figure size 432x288 with 1 Axes>"
      ]
     },
     "metadata": {
      "needs_background": "light"
     },
     "output_type": "display_data"
    }
   ],
   "source": [
    "plotSIR(results,\"Susceptible, Infected, and Recovered Over Time\")\n",
    "savefig('NYC_no_lockdown_SIR.pdf')"
   ]
  },
  {
   "cell_type": "markdown",
   "metadata": {},
   "source": [
    "# As you can see, it would be catastrophic to not lock down\n",
    "78.64% of the population were infected which translates into 6,604,914 cases of Covid-19. To make matters worse, at the peak of the outbreak (around 80 days in) roughly 20% of the population were infected simulataneously. This would mean over a million people would be sick at the same time, a scenario that would certainly overwhelm the healthcare capactiy of the city.\n",
    "\n",
    "# Testing the model on other countries\n",
    "\n",
    "This will illuminate the limitations of our model. Our model is very geared towards NYC and cannot predict other countries/cities well. The primary reason it fails for other countries is because population density is not taken into account. New York City is an extremely dense population which affects the contact rate. In order for this to work for other places we would have to research their contact rates, and consider variables such as population density and culture."
   ]
  },
  {
   "cell_type": "code",
   "execution_count": 292,
   "metadata": {},
   "outputs": [
    {
     "data": {
      "text/plain": [
       "66650000"
      ]
     },
     "execution_count": 292,
     "metadata": {},
     "output_type": "execute_result"
    }
   ],
   "source": [
    "lockdown_time_NZ = 4\n",
    "population_NZ = 4886000 \n",
    "\n",
    "lockdown_time_Germ = 15\n",
    "population_Germ = 83020000\n",
    "\n",
    "lockdown_time_Italy = 16\n",
    "population_Italy = 60360000\n",
    "\n",
    "lockdown_time_UK = 23\n",
    "population_UK = 66650000"
   ]
  },
  {
   "cell_type": "code",
   "execution_count": 293,
   "metadata": {},
   "outputs": [
    {
     "name": "stdout",
     "output_type": "stream",
     "text": [
      "Locked Down After 20 days\n",
      "Max New Cases 5352.0 days\n",
      "Contact Number After 100 Days: 0.0\n",
      "Total cases 194042.0\n",
      "Locked Down After 4 days\n",
      "Max New Cases 569.0 days\n",
      "Contact Number After 100 Days: 0.0\n",
      "Total cases 20207.0\n",
      "Locked Down After 15 days\n",
      "Max New Cases 31293.0 days\n",
      "Contact Number After 100 Days: 0.0\n",
      "Total cases 1131064.0\n",
      "Locked Down After 16 days\n",
      "Max New Cases 25288.0 days\n",
      "Contact Number After 100 Days: 0.0\n",
      "Total cases 914678.0\n",
      "Locked Down After 23 days\n",
      "Max New Cases 57921.0 days\n",
      "Contact Number After 100 Days: 0.0\n",
      "Total cases 2102140.0\n"
     ]
    },
    {
     "data": {
      "image/png": "[encoded data removed]",
      "text/plain": [
       "<Figure size 432x288 with 1 Axes>"
      ]
     },
     "metadata": {
      "needs_background": "light"
     },
     "output_type": "display_data"
    }
   ],
   "source": [
    "generate_curve(beta, gamma, lockdown_time_NYC, population_NYC, \"New York City\", 100)\n",
    "generate_curve(beta, gamma, lockdown_time_NZ, population_NZ, \"New Zealand\",100)\n",
    "generate_curve(beta, gamma, lockdown_time_Germ, population_Germ, \"Germany\",100)\n",
    "generate_curve(beta, gamma, lockdown_time_Italy, population_Italy, \"Italy\",100)\n",
    "generate_curve(beta, gamma, lockdown_time_UK, population_UK, \"United Kingdom\",100)\n",
    "decorate(title=\"Attempt at modelling various locations\")"
   ]
  },
  {
   "cell_type": "markdown",
   "metadata": {},
   "source": [
    "# As you can see our model is very innaccurate for everyone except for New York and New Zealand\n",
    "Our initial goal to create a general model for coronavirus was unsuccessful and incomplete. In the future we'd like to add parameters that quantify factors such as population density and infection vectors such as public transit.\n"
   ]
  },
  {
   "cell_type": "markdown",
   "metadata": {},
   "source": [
    "# Finally we will demonstrate the relationship between the contact number (beta/gamma) and the percentage of the population that becomes infected\n",
    "The contact numbers on the x-axis correspond to the INITIAL contact number values before lockdown at day 20"
   ]
  },
  {
   "cell_type": "code",
   "execution_count": 294,
   "metadata": {},
   "outputs": [],
   "source": [
    "def plot_sweep_frame(frame):\n",
    "    \"\"\"Plot the values from a SweepFrame.\n",
    "    \n",
    "    For each (beta, gamma), compute the contact number,\n",
    "    beta/gamma\n",
    "    \n",
    "    frame: SweepFrame with one row per beta, one column per gamma\n",
    "    \"\"\"\n",
    "    for gamma in frame.columns:\n",
    "        column = frame[gamma]\n",
    "        for beta in column.index:\n",
    "            frac_infected = column[beta]/population_NYC\n",
    "            plot(beta/gamma, frac_infected, 'ro')"
   ]
  },
  {
   "cell_type": "code",
   "execution_count": 295,
   "metadata": {},
   "outputs": [
    {
     "data": {
      "image/png": "[encoded data removed]",
      "text/plain": [
       "<Figure size 432x288 with 1 Axes>"
      ]
     },
     "metadata": {
      "needs_background": "light"
     },
     "output_type": "display_data"
    }
   ],
   "source": [
    "plot_sweep_frame(frame)\n",
    "\n",
    "decorate(title=\"Relationship between contact number and infection percentage\",xlabel='Contact number (beta/gamma)',\n",
    "         ylabel='Percent of Population Infected')\n",
    "\n"
   ]
  },
  {
   "cell_type": "code",
   "execution_count": null,
   "metadata": {},
   "outputs": [],
   "source": []
  },
  {
   "cell_type": "code",
   "execution_count": null,
   "metadata": {},
   "outputs": [],
   "source": []
  },
  {
   "cell_type": "code",
   "execution_count": null,
   "metadata": {},
   "outputs": [],
   "source": []
  }
 ],
 "metadata": {
  "kernelspec": {
   "display_name": "Python 3",
   "language": "python",
   "name": "python3"
  },
  "language_info": {
   "codemirror_mode": {
    "name": "ipython",
    "version": 3
   },
   "file_extension": ".py",
   "mimetype": "text/x-python",
   "name": "python",
   "nbconvert_exporter": "python",
   "pygments_lexer": "ipython3",
   "version": "3.7.4"
  }
 },
 "nbformat": 4,
 "nbformat_minor": 2
}
